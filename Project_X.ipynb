{
  "nbformat": 4,
  "nbformat_minor": 0,
  "metadata": {
    "colab": {
      "name": "Project_X.ipynb",
      "provenance": [],
      "collapsed_sections": [],
      "authorship_tag": "ABX9TyMBZzYgYpJ4+Sfxd9FnJmJ2",
      "include_colab_link": true
    },
    "kernelspec": {
      "name": "python3",
      "display_name": "Python 3"
    }
  },
  "cells": [
    {
      "cell_type": "markdown",
      "metadata": {
        "id": "view-in-github",
        "colab_type": "text"
      },
      "source": [
        "<a href=\"https://colab.research.google.com/github/iuliastremciuc/DS-Unit-1-Build/blob/master/Project_X.ipynb\" target=\"_parent\"><img src=\"https://colab.research.google.com/assets/colab-badge.svg\" alt=\"Open In Colab\"/></a>"
      ]
    },
    {
      "cell_type": "code",
      "metadata": {
        "id": "wId1Aa-YsvYc",
        "colab_type": "code",
        "outputId": "b35d494b-ae9b-4411-9c91-15943ab34d6f",
        "colab": {
          "resources": {
            "http://localhost:8080/nbextensions/google.colab/files.js": {
              "data": "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",
              "ok": true,
              "headers": [
                [
                  "content-type",
                  "application/javascript"
                ]
              ],
              "status": 200,
              "status_text": ""
            }
          },
          "base_uri": "https://localhost:8080/",
          "height": 74
        }
      },
      "source": [
        "from google.colab import files\n",
        "uploaded = files.upload()  "
      ],
      "execution_count": 127,
      "outputs": [
        {
          "output_type": "display_data",
          "data": {
            "text/html": [
              "\n",
              "     <input type=\"file\" id=\"files-c7ae704c-f5b3-4aaa-bb0b-fd95ca67ff84\" name=\"files[]\" multiple disabled />\n",
              "     <output id=\"result-c7ae704c-f5b3-4aaa-bb0b-fd95ca67ff84\">\n",
              "      Upload widget is only available when the cell has been executed in the\n",
              "      current browser session. Please rerun this cell to enable.\n",
              "      </output>\n",
              "      <script src=\"/nbextensions/google.colab/files.js\"></script> "
            ],
            "text/plain": [
              "<IPython.core.display.HTML object>"
            ]
          },
          "metadata": {
            "tags": []
          }
        },
        {
          "output_type": "stream",
          "text": [
            "Saving Crimes_-_2019 (1).csv to Crimes_-_2019 (1).csv\n"
          ],
          "name": "stdout"
        }
      ]
    },
    {
      "cell_type": "code",
      "metadata": {
        "id": "wcfy787S5wbw",
        "colab_type": "code",
        "colab": {}
      },
      "source": [
        "import pandas as pd \n",
        "import numpy as np\n",
        "import matplotlib.pyplot as plt\n",
        "\n",
        "crimes_2019 = pd.read_csv('Crimes_-_2019 (1).csv')"
      ],
      "execution_count": 0,
      "outputs": []
    },
    {
      "cell_type": "code",
      "metadata": {
        "id": "AfTlpqT_YdbV",
        "colab_type": "code",
        "colab": {
          "base_uri": "https://localhost:8080/",
          "height": 398
        },
        "outputId": "fb9636eb-61df-4c37-f667-114657e2c774"
      },
      "source": [
        "#exploring data\n",
        "print(crimes_2019.shape)\n",
        "crimes_2019.head()"
      ],
      "execution_count": 176,
      "outputs": [
        {
          "output_type": "stream",
          "text": [
            "(258110, 22)\n"
          ],
          "name": "stdout"
        },
        {
          "output_type": "execute_result",
          "data": {
            "text/html": [
              "<div>\n",
              "<style scoped>\n",
              "    .dataframe tbody tr th:only-of-type {\n",
              "        vertical-align: middle;\n",
              "    }\n",
              "\n",
              "    .dataframe tbody tr th {\n",
              "        vertical-align: top;\n",
              "    }\n",
              "\n",
              "    .dataframe thead th {\n",
              "        text-align: right;\n",
              "    }\n",
              "</style>\n",
              "<table border=\"1\" class=\"dataframe\">\n",
              "  <thead>\n",
              "    <tr style=\"text-align: right;\">\n",
              "      <th></th>\n",
              "      <th>ID</th>\n",
              "      <th>Case Number</th>\n",
              "      <th>Date</th>\n",
              "      <th>Block</th>\n",
              "      <th>IUCR</th>\n",
              "      <th>Primary Type</th>\n",
              "      <th>Description</th>\n",
              "      <th>Location Description</th>\n",
              "      <th>Arrest</th>\n",
              "      <th>Domestic</th>\n",
              "      <th>Beat</th>\n",
              "      <th>District</th>\n",
              "      <th>Ward</th>\n",
              "      <th>Community Area</th>\n",
              "      <th>FBI Code</th>\n",
              "      <th>X Coordinate</th>\n",
              "      <th>Y Coordinate</th>\n",
              "      <th>Year</th>\n",
              "      <th>Updated On</th>\n",
              "      <th>Latitude</th>\n",
              "      <th>Longitude</th>\n",
              "      <th>Location</th>\n",
              "    </tr>\n",
              "  </thead>\n",
              "  <tbody>\n",
              "    <tr>\n",
              "      <th>0</th>\n",
              "      <td>11957665</td>\n",
              "      <td>JD123166</td>\n",
              "      <td>12/28/2019 12:00:00 PM</td>\n",
              "      <td>061XX N SHERIDAN RD</td>\n",
              "      <td>0910</td>\n",
              "      <td>MOTOR VEHICLE THEFT</td>\n",
              "      <td>AUTOMOBILE</td>\n",
              "      <td>STREET</td>\n",
              "      <td>True</td>\n",
              "      <td>False</td>\n",
              "      <td>2433</td>\n",
              "      <td>24</td>\n",
              "      <td>48.0</td>\n",
              "      <td>77.0</td>\n",
              "      <td>07</td>\n",
              "      <td>1168514.0</td>\n",
              "      <td>1940972.0</td>\n",
              "      <td>2019</td>\n",
              "      <td>02/05/2020 03:52:05 PM</td>\n",
              "      <td>41.993559</td>\n",
              "      <td>-87.655496</td>\n",
              "      <td>(41.993558695, -87.655495503)</td>\n",
              "    </tr>\n",
              "    <tr>\n",
              "      <th>1</th>\n",
              "      <td>11927422</td>\n",
              "      <td>JC553758</td>\n",
              "      <td>12/20/2019 08:45:00 AM</td>\n",
              "      <td>095XX S HALSTED ST</td>\n",
              "      <td>0910</td>\n",
              "      <td>MOTOR VEHICLE THEFT</td>\n",
              "      <td>AUTOMOBILE</td>\n",
              "      <td>STREET</td>\n",
              "      <td>True</td>\n",
              "      <td>False</td>\n",
              "      <td>2223</td>\n",
              "      <td>22</td>\n",
              "      <td>21.0</td>\n",
              "      <td>73.0</td>\n",
              "      <td>07</td>\n",
              "      <td>1172654.0</td>\n",
              "      <td>1841681.0</td>\n",
              "      <td>2019</td>\n",
              "      <td>02/05/2020 03:52:05 PM</td>\n",
              "      <td>41.721006</td>\n",
              "      <td>-87.643203</td>\n",
              "      <td>(41.721005667, -87.643202686)</td>\n",
              "    </tr>\n",
              "    <tr>\n",
              "      <th>2</th>\n",
              "      <td>11919937</td>\n",
              "      <td>JC544715</td>\n",
              "      <td>12/04/2019 12:00:00 AM</td>\n",
              "      <td>050XX S WINCHESTER AVE</td>\n",
              "      <td>1752</td>\n",
              "      <td>OFFENSE INVOLVING CHILDREN</td>\n",
              "      <td>AGG CRIM SEX ABUSE FAM MEMBER</td>\n",
              "      <td>APARTMENT</td>\n",
              "      <td>False</td>\n",
              "      <td>True</td>\n",
              "      <td>931</td>\n",
              "      <td>9</td>\n",
              "      <td>15.0</td>\n",
              "      <td>61.0</td>\n",
              "      <td>17</td>\n",
              "      <td>1164206.0</td>\n",
              "      <td>1871217.0</td>\n",
              "      <td>2019</td>\n",
              "      <td>02/05/2020 03:52:05 PM</td>\n",
              "      <td>41.802238</td>\n",
              "      <td>-87.673316</td>\n",
              "      <td>(41.802238272, -87.673315925)</td>\n",
              "    </tr>\n",
              "    <tr>\n",
              "      <th>3</th>\n",
              "      <td>11919884</td>\n",
              "      <td>JC544670</td>\n",
              "      <td>12/12/2019 07:28:00 PM</td>\n",
              "      <td>092XX S HOYNE AVE</td>\n",
              "      <td>4387</td>\n",
              "      <td>OTHER OFFENSE</td>\n",
              "      <td>VIOLATE ORDER OF PROTECTION</td>\n",
              "      <td>CHURCH/SYNAGOGUE/PLACE OF WORSHIP</td>\n",
              "      <td>True</td>\n",
              "      <td>True</td>\n",
              "      <td>2221</td>\n",
              "      <td>22</td>\n",
              "      <td>19.0</td>\n",
              "      <td>72.0</td>\n",
              "      <td>26</td>\n",
              "      <td>1164088.0</td>\n",
              "      <td>1843323.0</td>\n",
              "      <td>2019</td>\n",
              "      <td>02/05/2020 03:52:05 PM</td>\n",
              "      <td>41.725696</td>\n",
              "      <td>-87.674532</td>\n",
              "      <td>(41.72569573, -87.674532181)</td>\n",
              "    </tr>\n",
              "    <tr>\n",
              "      <th>4</th>\n",
              "      <td>11919541</td>\n",
              "      <td>JC544284</td>\n",
              "      <td>12/12/2019 01:17:00 PM</td>\n",
              "      <td>0000X S HALSTED ST</td>\n",
              "      <td>0860</td>\n",
              "      <td>THEFT</td>\n",
              "      <td>RETAIL THEFT</td>\n",
              "      <td>SMALL RETAIL STORE</td>\n",
              "      <td>True</td>\n",
              "      <td>False</td>\n",
              "      <td>1232</td>\n",
              "      <td>12</td>\n",
              "      <td>27.0</td>\n",
              "      <td>28.0</td>\n",
              "      <td>06</td>\n",
              "      <td>1171058.0</td>\n",
              "      <td>1900047.0</td>\n",
              "      <td>2019</td>\n",
              "      <td>02/05/2020 03:52:05 PM</td>\n",
              "      <td>41.881203</td>\n",
              "      <td>-87.647342</td>\n",
              "      <td>(41.881203182, -87.647342333)</td>\n",
              "    </tr>\n",
              "  </tbody>\n",
              "</table>\n",
              "</div>"
            ],
            "text/plain": [
              "         ID Case Number  ...  Longitude                       Location\n",
              "0  11957665    JD123166  ... -87.655496  (41.993558695, -87.655495503)\n",
              "1  11927422    JC553758  ... -87.643203  (41.721005667, -87.643202686)\n",
              "2  11919937    JC544715  ... -87.673316  (41.802238272, -87.673315925)\n",
              "3  11919884    JC544670  ... -87.674532   (41.72569573, -87.674532181)\n",
              "4  11919541    JC544284  ... -87.647342  (41.881203182, -87.647342333)\n",
              "\n",
              "[5 rows x 22 columns]"
            ]
          },
          "metadata": {
            "tags": []
          },
          "execution_count": 176
        }
      ]
    },
    {
      "cell_type": "code",
      "metadata": {
        "id": "E5nQj_MD55l7",
        "colab_type": "code",
        "colab": {}
      },
      "source": [
        "## dropped irrelevant columns\n",
        "crimes_19_cd = crimes_2019.drop(['Case Number', 'ID', 'Block', 'X Coordinate',\t'Y Coordinate',\t'Updated On', 'Community Area', 'FBI Code',\t'Latitude',\t'Longitude',\t'Location', 'Year'], axis = 1)"
      ],
      "execution_count": 0,
      "outputs": []
    },
    {
      "cell_type": "code",
      "metadata": {
        "id": "fK8FlyhH6Kxe",
        "colab_type": "code",
        "outputId": "479dcea9-4984-46d1-fa08-db8dc407b91f",
        "colab": {
          "base_uri": "https://localhost:8080/",
          "height": 365
        }
      },
      "source": [
        "# dropping NaN values\n",
        "crimes_19_clean = crimes_19_cd.dropna()\n",
        "print(crimes_19_clean.shape)\n",
        "crimes_19_clean.head(10)"
      ],
      "execution_count": 178,
      "outputs": [
        {
          "output_type": "stream",
          "text": [
            "(257088, 10)\n"
          ],
          "name": "stdout"
        },
        {
          "output_type": "execute_result",
          "data": {
            "text/html": [
              "<div>\n",
              "<style scoped>\n",
              "    .dataframe tbody tr th:only-of-type {\n",
              "        vertical-align: middle;\n",
              "    }\n",
              "\n",
              "    .dataframe tbody tr th {\n",
              "        vertical-align: top;\n",
              "    }\n",
              "\n",
              "    .dataframe thead th {\n",
              "        text-align: right;\n",
              "    }\n",
              "</style>\n",
              "<table border=\"1\" class=\"dataframe\">\n",
              "  <thead>\n",
              "    <tr style=\"text-align: right;\">\n",
              "      <th></th>\n",
              "      <th>Date</th>\n",
              "      <th>IUCR</th>\n",
              "      <th>Primary Type</th>\n",
              "      <th>Description</th>\n",
              "      <th>Location Description</th>\n",
              "      <th>Arrest</th>\n",
              "      <th>Domestic</th>\n",
              "      <th>Beat</th>\n",
              "      <th>District</th>\n",
              "      <th>Ward</th>\n",
              "    </tr>\n",
              "  </thead>\n",
              "  <tbody>\n",
              "    <tr>\n",
              "      <th>0</th>\n",
              "      <td>12/28/2019 12:00:00 PM</td>\n",
              "      <td>0910</td>\n",
              "      <td>MOTOR VEHICLE THEFT</td>\n",
              "      <td>AUTOMOBILE</td>\n",
              "      <td>STREET</td>\n",
              "      <td>True</td>\n",
              "      <td>False</td>\n",
              "      <td>2433</td>\n",
              "      <td>24</td>\n",
              "      <td>48.0</td>\n",
              "    </tr>\n",
              "    <tr>\n",
              "      <th>1</th>\n",
              "      <td>12/20/2019 08:45:00 AM</td>\n",
              "      <td>0910</td>\n",
              "      <td>MOTOR VEHICLE THEFT</td>\n",
              "      <td>AUTOMOBILE</td>\n",
              "      <td>STREET</td>\n",
              "      <td>True</td>\n",
              "      <td>False</td>\n",
              "      <td>2223</td>\n",
              "      <td>22</td>\n",
              "      <td>21.0</td>\n",
              "    </tr>\n",
              "    <tr>\n",
              "      <th>2</th>\n",
              "      <td>12/04/2019 12:00:00 AM</td>\n",
              "      <td>1752</td>\n",
              "      <td>OFFENSE INVOLVING CHILDREN</td>\n",
              "      <td>AGG CRIM SEX ABUSE FAM MEMBER</td>\n",
              "      <td>APARTMENT</td>\n",
              "      <td>False</td>\n",
              "      <td>True</td>\n",
              "      <td>931</td>\n",
              "      <td>9</td>\n",
              "      <td>15.0</td>\n",
              "    </tr>\n",
              "    <tr>\n",
              "      <th>3</th>\n",
              "      <td>12/12/2019 07:28:00 PM</td>\n",
              "      <td>4387</td>\n",
              "      <td>OTHER OFFENSE</td>\n",
              "      <td>VIOLATE ORDER OF PROTECTION</td>\n",
              "      <td>CHURCH/SYNAGOGUE/PLACE OF WORSHIP</td>\n",
              "      <td>True</td>\n",
              "      <td>True</td>\n",
              "      <td>2221</td>\n",
              "      <td>22</td>\n",
              "      <td>19.0</td>\n",
              "    </tr>\n",
              "    <tr>\n",
              "      <th>4</th>\n",
              "      <td>12/12/2019 01:17:00 PM</td>\n",
              "      <td>0860</td>\n",
              "      <td>THEFT</td>\n",
              "      <td>RETAIL THEFT</td>\n",
              "      <td>SMALL RETAIL STORE</td>\n",
              "      <td>True</td>\n",
              "      <td>False</td>\n",
              "      <td>1232</td>\n",
              "      <td>12</td>\n",
              "      <td>27.0</td>\n",
              "    </tr>\n",
              "    <tr>\n",
              "      <th>5</th>\n",
              "      <td>12/08/2019 11:55:00 AM</td>\n",
              "      <td>1752</td>\n",
              "      <td>OFFENSE INVOLVING CHILDREN</td>\n",
              "      <td>AGG CRIM SEX ABUSE FAM MEMBER</td>\n",
              "      <td>RESIDENCE</td>\n",
              "      <td>False</td>\n",
              "      <td>True</td>\n",
              "      <td>713</td>\n",
              "      <td>7</td>\n",
              "      <td>16.0</td>\n",
              "    </tr>\n",
              "    <tr>\n",
              "      <th>6</th>\n",
              "      <td>12/09/2019 08:00:00 PM</td>\n",
              "      <td>1751</td>\n",
              "      <td>OFFENSE INVOLVING CHILDREN</td>\n",
              "      <td>CRIM SEX ABUSE BY FAM MEMBER</td>\n",
              "      <td>RESIDENCE</td>\n",
              "      <td>False</td>\n",
              "      <td>True</td>\n",
              "      <td>922</td>\n",
              "      <td>9</td>\n",
              "      <td>15.0</td>\n",
              "    </tr>\n",
              "    <tr>\n",
              "      <th>7</th>\n",
              "      <td>12/06/2019 07:00:00 PM</td>\n",
              "      <td>5000</td>\n",
              "      <td>OTHER OFFENSE</td>\n",
              "      <td>OTHER CRIME AGAINST PERSON</td>\n",
              "      <td>RESIDENCE</td>\n",
              "      <td>False</td>\n",
              "      <td>False</td>\n",
              "      <td>2432</td>\n",
              "      <td>20</td>\n",
              "      <td>40.0</td>\n",
              "    </tr>\n",
              "    <tr>\n",
              "      <th>8</th>\n",
              "      <td>11/30/2019 03:30:00 PM</td>\n",
              "      <td>0462</td>\n",
              "      <td>BATTERY</td>\n",
              "      <td>AGG PRO EMP HANDS SERIOUS INJ</td>\n",
              "      <td>VEHICLE NON-COMMERCIAL</td>\n",
              "      <td>True</td>\n",
              "      <td>False</td>\n",
              "      <td>1133</td>\n",
              "      <td>11</td>\n",
              "      <td>24.0</td>\n",
              "    </tr>\n",
              "    <tr>\n",
              "      <th>9</th>\n",
              "      <td>08/22/2019 06:00:00 PM</td>\n",
              "      <td>1563</td>\n",
              "      <td>SEX OFFENSE</td>\n",
              "      <td>CRIMINAL SEXUAL ABUSE</td>\n",
              "      <td>APARTMENT</td>\n",
              "      <td>True</td>\n",
              "      <td>True</td>\n",
              "      <td>1422</td>\n",
              "      <td>14</td>\n",
              "      <td>26.0</td>\n",
              "    </tr>\n",
              "  </tbody>\n",
              "</table>\n",
              "</div>"
            ],
            "text/plain": [
              "                     Date  IUCR  ... District  Ward\n",
              "0  12/28/2019 12:00:00 PM  0910  ...       24  48.0\n",
              "1  12/20/2019 08:45:00 AM  0910  ...       22  21.0\n",
              "2  12/04/2019 12:00:00 AM  1752  ...        9  15.0\n",
              "3  12/12/2019 07:28:00 PM  4387  ...       22  19.0\n",
              "4  12/12/2019 01:17:00 PM  0860  ...       12  27.0\n",
              "5  12/08/2019 11:55:00 AM  1752  ...        7  16.0\n",
              "6  12/09/2019 08:00:00 PM  1751  ...        9  15.0\n",
              "7  12/06/2019 07:00:00 PM  5000  ...       20  40.0\n",
              "8  11/30/2019 03:30:00 PM  0462  ...       11  24.0\n",
              "9  08/22/2019 06:00:00 PM  1563  ...       14  26.0\n",
              "\n",
              "[10 rows x 10 columns]"
            ]
          },
          "metadata": {
            "tags": []
          },
          "execution_count": 178
        }
      ]
    },
    {
      "cell_type": "code",
      "metadata": {
        "id": "1ZBKIrNJcOmK",
        "colab_type": "code",
        "colab": {
          "base_uri": "https://localhost:8080/",
          "height": 34
        },
        "outputId": "1cf7ad90-1d72-4a08-eb14-2a669a5e22c1"
      },
      "source": [
        "sum_crimes = len(crimes_19_clean['District'])\n",
        "sum_crimes"
      ],
      "execution_count": 179,
      "outputs": [
        {
          "output_type": "execute_result",
          "data": {
            "text/plain": [
              "257088"
            ]
          },
          "metadata": {
            "tags": []
          },
          "execution_count": 179
        }
      ]
    },
    {
      "cell_type": "code",
      "metadata": {
        "id": "M8fVMig57Rcr",
        "colab_type": "code",
        "outputId": "4ffbfb26-f6bf-400a-da06-a030539c3be7",
        "colab": {
          "base_uri": "https://localhost:8080/",
          "height": 336
        }
      },
      "source": [
        "## converted data types\n",
        "crimes_19_clean['Arrest'] = crimes_19_clean['Arrest'].astype('int') \n",
        "crimes_19_clean['Domestic'] = crimes_19_clean['Domestic'].astype('int')\n",
        "crimes_19_clean['District'] = crimes_19_clean['District'].astype('str').astype('object')"
      ],
      "execution_count": 180,
      "outputs": [
        {
          "output_type": "stream",
          "text": [
            "/usr/local/lib/python3.6/dist-packages/ipykernel_launcher.py:1: SettingWithCopyWarning: \n",
            "A value is trying to be set on a copy of a slice from a DataFrame.\n",
            "Try using .loc[row_indexer,col_indexer] = value instead\n",
            "\n",
            "See the caveats in the documentation: http://pandas.pydata.org/pandas-docs/stable/user_guide/indexing.html#returning-a-view-versus-a-copy\n",
            "  \"\"\"Entry point for launching an IPython kernel.\n",
            "/usr/local/lib/python3.6/dist-packages/ipykernel_launcher.py:2: SettingWithCopyWarning: \n",
            "A value is trying to be set on a copy of a slice from a DataFrame.\n",
            "Try using .loc[row_indexer,col_indexer] = value instead\n",
            "\n",
            "See the caveats in the documentation: http://pandas.pydata.org/pandas-docs/stable/user_guide/indexing.html#returning-a-view-versus-a-copy\n",
            "  \n",
            "/usr/local/lib/python3.6/dist-packages/ipykernel_launcher.py:3: SettingWithCopyWarning: \n",
            "A value is trying to be set on a copy of a slice from a DataFrame.\n",
            "Try using .loc[row_indexer,col_indexer] = value instead\n",
            "\n",
            "See the caveats in the documentation: http://pandas.pydata.org/pandas-docs/stable/user_guide/indexing.html#returning-a-view-versus-a-copy\n",
            "  This is separate from the ipykernel package so we can avoid doing imports until\n"
          ],
          "name": "stderr"
        }
      ]
    },
    {
      "cell_type": "code",
      "metadata": {
        "id": "1ZJ3CBmo7d0X",
        "colab_type": "code",
        "outputId": "405de683-0ca7-4c57-a5ef-6a1dbd604736",
        "colab": {
          "base_uri": "https://localhost:8080/",
          "height": 212
        }
      },
      "source": [
        "crimes_19_clean.dtypes"
      ],
      "execution_count": 181,
      "outputs": [
        {
          "output_type": "execute_result",
          "data": {
            "text/plain": [
              "Date                     object\n",
              "IUCR                     object\n",
              "Primary Type             object\n",
              "Description              object\n",
              "Location Description     object\n",
              "Arrest                    int64\n",
              "Domestic                  int64\n",
              "Beat                      int64\n",
              "District                 object\n",
              "Ward                    float64\n",
              "dtype: object"
            ]
          },
          "metadata": {
            "tags": []
          },
          "execution_count": 181
        }
      ]
    },
    {
      "cell_type": "code",
      "metadata": {
        "id": "4gJQ7kDO7vvW",
        "colab_type": "code",
        "outputId": "23bcf507-d092-4059-ff05-3a72d75f4198",
        "colab": {
          "base_uri": "https://localhost:8080/",
          "height": 443
        }
      },
      "source": [
        "#checking which districts have higher crime rate\n",
        "crimes_19_clean['District'].value_counts()"
      ],
      "execution_count": 182,
      "outputs": [
        {
          "output_type": "execute_result",
          "data": {
            "text/plain": [
              "11    18168\n",
              "6     16656\n",
              "8     15513\n",
              "1     15093\n",
              "18    14986\n",
              "4     13858\n",
              "7     13528\n",
              "12    12995\n",
              "25    12777\n",
              "10    12369\n",
              "3     12353\n",
              "19    11603\n",
              "5     11233\n",
              "2     11046\n",
              "9     10858\n",
              "15     9889\n",
              "14     9158\n",
              "22     8108\n",
              "16     8073\n",
              "24     7872\n",
              "17     6669\n",
              "20     4276\n",
              "31        7\n",
              "Name: District, dtype: int64"
            ]
          },
          "metadata": {
            "tags": []
          },
          "execution_count": 182
        }
      ]
    },
    {
      "cell_type": "code",
      "metadata": {
        "id": "8HfZYWR2AxyP",
        "colab_type": "code",
        "outputId": "eb982645-2a9d-4c89-f4a7-18c341e1e254",
        "colab": {
          "base_uri": "https://localhost:8080/",
          "height": 123
        }
      },
      "source": [
        "# changed dtype of \"Date\" column\n",
        "crimes_19_clean['Date'] = pd.to_datetime(crimes_19_clean['Date'], infer_datetime_format=True)"
      ],
      "execution_count": 183,
      "outputs": [
        {
          "output_type": "stream",
          "text": [
            "/usr/local/lib/python3.6/dist-packages/ipykernel_launcher.py:1: SettingWithCopyWarning: \n",
            "A value is trying to be set on a copy of a slice from a DataFrame.\n",
            "Try using .loc[row_indexer,col_indexer] = value instead\n",
            "\n",
            "See the caveats in the documentation: http://pandas.pydata.org/pandas-docs/stable/user_guide/indexing.html#returning-a-view-versus-a-copy\n",
            "  \"\"\"Entry point for launching an IPython kernel.\n"
          ],
          "name": "stderr"
        }
      ]
    },
    {
      "cell_type": "code",
      "metadata": {
        "id": "Bc0PcPTVE09l",
        "colab_type": "code",
        "colab": {
          "base_uri": "https://localhost:8080/",
          "height": 585
        },
        "outputId": "629dc9e0-313a-4ab5-c4c8-7a2ed463ffca"
      },
      "source": [
        "#checkin what type of the crime have higher numbers\n",
        "crimes_19_clean['Primary Type'].value_counts()"
      ],
      "execution_count": 184,
      "outputs": [
        {
          "output_type": "execute_result",
          "data": {
            "text/plain": [
              "THEFT                                62227\n",
              "BATTERY                              49440\n",
              "CRIMINAL DAMAGE                      26643\n",
              "ASSAULT                              20589\n",
              "DECEPTIVE PRACTICE                   16868\n",
              "OTHER OFFENSE                        16588\n",
              "NARCOTICS                            14026\n",
              "BURGLARY                              9607\n",
              "MOTOR VEHICLE THEFT                   8970\n",
              "ROBBERY                               7984\n",
              "CRIMINAL TRESPASS                     6815\n",
              "WEAPONS VIOLATION                     6319\n",
              "OFFENSE INVOLVING CHILDREN            2295\n",
              "CRIM SEXUAL ASSAULT                   1588\n",
              "INTERFERENCE WITH PUBLIC OFFICER      1546\n",
              "PUBLIC PEACE VIOLATION                1518\n",
              "SEX OFFENSE                           1271\n",
              "PROSTITUTION                           680\n",
              "HOMICIDE                               504\n",
              "ARSON                                  373\n",
              "LIQUOR LAW VIOLATION                   230\n",
              "STALKING                               221\n",
              "CONCEALED CARRY LICENSE VIOLATION      217\n",
              "KIDNAPPING                             174\n",
              "INTIMIDATION                           163\n",
              "GAMBLING                               142\n",
              "OBSCENITY                               57\n",
              "HUMAN TRAFFICKING                       12\n",
              "PUBLIC INDECENCY                        10\n",
              "OTHER NARCOTIC VIOLATION                 8\n",
              "NON-CRIMINAL                             3\n",
              "Name: Primary Type, dtype: int64"
            ]
          },
          "metadata": {
            "tags": []
          },
          "execution_count": 184
        }
      ]
    },
    {
      "cell_type": "code",
      "metadata": {
        "id": "UMhQHsFe4QoX",
        "colab_type": "code",
        "colab": {
          "base_uri": "https://localhost:8080/",
          "height": 478
        },
        "outputId": "05d06fba-dc7c-4319-af66-9b7c44abcdb3"
      },
      "source": [
        "# crosstab two columns to get a data for map\n",
        "crimes_date = pd.crosstab(crimes_19_clean['District'], crimes_19_clean['Date'].dt.month, margins = True)\n",
        "district_all = crimes_date['All']\n",
        "district_all"
      ],
      "execution_count": 185,
      "outputs": [
        {
          "output_type": "execute_result",
          "data": {
            "text/plain": [
              "District\n",
              "1       15093\n",
              "10      12369\n",
              "11      18168\n",
              "12      12995\n",
              "14       9158\n",
              "15       9889\n",
              "16       8073\n",
              "17       6669\n",
              "18      14986\n",
              "19      11603\n",
              "2       11046\n",
              "20       4276\n",
              "22       8108\n",
              "24       7872\n",
              "25      12777\n",
              "3       12353\n",
              "31          7\n",
              "4       13858\n",
              "5       11233\n",
              "6       16656\n",
              "7       13528\n",
              "8       15513\n",
              "9       10858\n",
              "All    257088\n",
              "Name: All, dtype: int64"
            ]
          },
          "metadata": {
            "tags": []
          },
          "execution_count": 185
        }
      ]
    },
    {
      "cell_type": "code",
      "metadata": {
        "id": "sQlxap1YB-zP",
        "colab_type": "code",
        "colab": {
          "resources": {
            "http://localhost:8080/nbextensions/google.colab/files.js": {
              "data": "Ly8gQ29weXJpZ2h0IDIwMTcgR29vZ2xlIExMQwovLwovLyBMaWNlbnNlZCB1bmRlciB0aGUgQXBhY2hlIExpY2Vuc2UsIFZlcnNpb24gMi4wICh0aGUgIkxpY2Vuc2UiKTsKLy8geW91IG1heSBub3QgdXNlIHRoaXMgZmlsZSBleGNlcHQgaW4gY29tcGxpYW5jZSB3aXRoIHRoZSBMaWNlbnNlLgovLyBZb3UgbWF5IG9idGFpbiBhIGNvcHkgb2YgdGhlIExpY2Vuc2UgYXQKLy8KLy8gICAgICBodHRwOi8vd3d3LmFwYWNoZS5vcmcvbGljZW5zZXMvTElDRU5TRS0yLjAKLy8KLy8gVW5sZXNzIHJlcXVpcmVkIGJ5IGFwcGxpY2FibGUgbGF3IG9yIGFncmVlZCB0byBpbiB3cml0aW5nLCBzb2Z0d2FyZQovLyBkaXN0cmlidXRlZCB1bmRlciB0aGUgTGljZW5zZSBpcyBkaXN0cmlidXRlZCBvbiBhbiAiQVMgSVMiIEJBU0lTLAovLyBXSVRIT1VUIFdBUlJBTlRJRVMgT1IgQ09ORElUSU9OUyBPRiBBTlkgS0lORCwgZWl0aGVyIGV4cHJlc3Mgb3IgaW1wbGllZC4KLy8gU2VlIHRoZSBMaWNlbnNlIGZvciB0aGUgc3BlY2lmaWMgbGFuZ3VhZ2UgZ292ZXJuaW5nIHBlcm1pc3Npb25zIGFuZAovLyBsaW1pdGF0aW9ucyB1bmRlciB0aGUgTGljZW5zZS4KCi8qKgogKiBAZmlsZW92ZXJ2aWV3IEhlbHBlcnMgZm9yIGdvb2dsZS5jb2xhYiBQeXRob24gbW9kdWxlLgogKi8KKGZ1bmN0aW9uKHNjb3BlKSB7CmZ1bmN0aW9uIHNwYW4odGV4dCwgc3R5bGVBdHRyaWJ1dGVzID0ge30pIHsKICBjb25zdCBlbGVtZW50ID0gZG9jdW1lbnQuY3JlYXRlRWxlbWVudCgnc3BhbicpOwogIGVsZW1lbnQudGV4dENvbnRlbnQgPSB0ZXh0OwogIGZvciAoY29uc3Qga2V5IG9mIE9iamVjdC5rZXlzKHN0eWxlQXR0cmlidXRlcykpIHsKICAgIGVsZW1lbnQuc3R5bGVba2V5XSA9IHN0eWxlQXR0cmlidXRlc1trZXldOwogIH0KICByZXR1cm4gZWxlbWVudDsKfQoKLy8gTWF4IG51bWJlciBvZiBieXRlcyB3aGljaCB3aWxsIGJlIHVwbG9hZGVkIGF0IGEgdGltZS4KY29uc3QgTUFYX1BBWUxPQURfU0laRSA9IDEwMCAqIDEwMjQ7Ci8vIE1heCBhbW91bnQgb2YgdGltZSB0byBibG9jayB3YWl0aW5nIGZvciB0aGUgdXNlci4KY29uc3QgRklMRV9DSEFOR0VfVElNRU9VVF9NUyA9IDMwICogMTAwMDsKCmZ1bmN0aW9uIF91cGxvYWRGaWxlcyhpbnB1dElkLCBvdXRwdXRJZCkgewogIGNvbnN0IHN0ZXBzID0gdXBsb2FkRmlsZXNTdGVwKGlucHV0SWQsIG91dHB1dElkKTsKICBjb25zdCBvdXRwdXRFbGVtZW50ID0gZG9jdW1lbnQuZ2V0RWxlbWVudEJ5SWQob3V0cHV0SWQpOwogIC8vIENhY2hlIHN0ZXBzIG9uIHRoZSBvdXRwdXRFbGVtZW50IHRvIG1ha2UgaXQgYXZhaWxhYmxlIGZvciB0aGUgbmV4dCBjYWxsCiAgLy8gdG8gdXBsb2FkRmlsZXNDb250aW51ZSBmcm9tIFB5dGhvbi4KICBvdXRwdXRFbGVtZW50LnN0ZXBzID0gc3RlcHM7CgogIHJldHVybiBfdXBsb2FkRmlsZXNDb250aW51ZShvdXRwdXRJZCk7Cn0KCi8vIFRoaXMgaXMgcm91Z2hseSBhbiBhc3luYyBnZW5lcmF0b3IgKG5vdCBzdXBwb3J0ZWQgaW4gdGhlIGJyb3dzZXIgeWV0KSwKLy8gd2hlcmUgdGhlcmUgYXJlIG11bHRpcGxlIGFzeW5jaHJvbm91cyBzdGVwcyBhbmQgdGhlIFB5dGhvbiBzaWRlIGlzIGdvaW5nCi8vIHRvIHBvbGwgZm9yIGNvbXBsZXRpb24gb2YgZWFjaCBzdGVwLgovLyBUaGlzIHVzZXMgYSBQcm9taXNlIHRvIGJsb2NrIHRoZSBweXRob24gc2lkZSBvbiBjb21wbGV0aW9uIG9mIGVhY2ggc3RlcCwKLy8gdGhlbiBwYXNzZXMgdGhlIHJlc3VsdCBvZiB0aGUgcHJldmlvdXMgc3RlcCBhcyB0aGUgaW5wdXQgdG8gdGhlIG5leHQgc3RlcC4KZnVuY3Rpb24gX3VwbG9hZEZpbGVzQ29udGludWUob3V0cHV0SWQpIHsKICBjb25zdCBvdXRwdXRFbGVtZW50ID0gZG9jdW1lbnQuZ2V0RWxlbWVudEJ5SWQob3V0cHV0SWQpOwogIGNvbnN0IHN0ZXBzID0gb3V0cHV0RWxlbWVudC5zdGVwczsKCiAgY29uc3QgbmV4dCA9IHN0ZXBzLm5leHQob3V0cHV0RWxlbWVudC5sYXN0UHJvbWlzZVZhbHVlKTsKICByZXR1cm4gUHJvbWlzZS5yZXNvbHZlKG5leHQudmFsdWUucHJvbWlzZSkudGhlbigodmFsdWUpID0+IHsKICAgIC8vIENhY2hlIHRoZSBsYXN0IHByb21pc2UgdmFsdWUgdG8gbWFrZSBpdCBhdmFpbGFibGUgdG8gdGhlIG5leHQKICAgIC8vIHN0ZXAgb2YgdGhlIGdlbmVyYXRvci4KICAgIG91dHB1dEVsZW1lbnQubGFzdFByb21pc2VWYWx1ZSA9IHZhbHVlOwogICAgcmV0dXJuIG5leHQudmFsdWUucmVzcG9uc2U7CiAgfSk7Cn0KCi8qKgogKiBHZW5lcmF0b3IgZnVuY3Rpb24gd2hpY2ggaXMgY2FsbGVkIGJldHdlZW4gZWFjaCBhc3luYyBzdGVwIG9mIHRoZSB1cGxvYWQKICogcHJvY2Vzcy4KICogQHBhcmFtIHtzdHJpbmd9IGlucHV0SWQgRWxlbWVudCBJRCBvZiB0aGUgaW5wdXQgZmlsZSBwaWNrZXIgZWxlbWVudC4KICogQHBhcmFtIHtzdHJpbmd9IG91dHB1dElkIEVsZW1lbnQgSUQgb2YgdGhlIG91dHB1dCBkaXNwbGF5LgogKiBAcmV0dXJuIHshSXRlcmFibGU8IU9iamVjdD59IEl0ZXJhYmxlIG9mIG5leHQgc3RlcHMuCiAqLwpmdW5jdGlvbiogdXBsb2FkRmlsZXNTdGVwKGlucHV0SWQsIG91dHB1dElkKSB7CiAgY29uc3QgaW5wdXRFbGVtZW50ID0gZG9jdW1lbnQuZ2V0RWxlbWVudEJ5SWQoaW5wdXRJZCk7CiAgaW5wdXRFbGVtZW50LmRpc2FibGVkID0gZmFsc2U7CgogIGNvbnN0IG91dHB1dEVsZW1lbnQgPSBkb2N1bWVudC5nZXRFbGVtZW50QnlJZChvdXRwdXRJZCk7CiAgb3V0cHV0RWxlbWVudC5pbm5lckhUTUwgPSAnJzsKCiAgY29uc3QgcGlja2VkUHJvbWlzZSA9IG5ldyBQcm9taXNlKChyZXNvbHZlKSA9PiB7CiAgICBpbnB1dEVsZW1lbnQuYWRkRXZlbnRMaXN0ZW5lcignY2hhbmdlJywgKGUpID0+IHsKICAgICAgcmVzb2x2ZShlLnRhcmdldC5maWxlcyk7CiAgICB9KTsKICB9KTsKCiAgY29uc3QgY2FuY2VsID0gZG9jdW1lbnQuY3JlYXRlRWxlbWVudCgnYnV0dG9uJyk7CiAgaW5wdXRFbGVtZW50LnBhcmVudEVsZW1lbnQuYXBwZW5kQ2hpbGQoY2FuY2VsKTsKICBjYW5jZWwudGV4dENvbnRlbnQgPSAnQ2FuY2VsIHVwbG9hZCc7CiAgY29uc3QgY2FuY2VsUHJvbWlzZSA9IG5ldyBQcm9taXNlKChyZXNvbHZlKSA9PiB7CiAgICBjYW5jZWwub25jbGljayA9ICgpID0+IHsKICAgICAgcmVzb2x2ZShudWxsKTsKICAgIH07CiAgfSk7CgogIC8vIENhbmNlbCB1cGxvYWQgaWYgdXNlciBoYXNuJ3QgcGlja2VkIGFueXRoaW5nIGluIHRpbWVvdXQuCiAgY29uc3QgdGltZW91dFByb21pc2UgPSBuZXcgUHJvbWlzZSgocmVzb2x2ZSkgPT4gewogICAgc2V0VGltZW91dCgoKSA9PiB7CiAgICAgIHJlc29sdmUobnVsbCk7CiAgICB9LCBGSUxFX0NIQU5HRV9USU1FT1VUX01TKTsKICB9KTsKCiAgLy8gV2FpdCBmb3IgdGhlIHVzZXIgdG8gcGljayB0aGUgZmlsZXMuCiAgY29uc3QgZmlsZXMgPSB5aWVsZCB7CiAgICBwcm9taXNlOiBQcm9taXNlLnJhY2UoW3BpY2tlZFByb21pc2UsIHRpbWVvdXRQcm9taXNlLCBjYW5jZWxQcm9taXNlXSksCiAgICByZXNwb25zZTogewogICAgICBhY3Rpb246ICdzdGFydGluZycsCiAgICB9CiAgfTsKCiAgaWYgKCFmaWxlcykgewogICAgcmV0dXJuIHsKICAgICAgcmVzcG9uc2U6IHsKICAgICAgICBhY3Rpb246ICdjb21wbGV0ZScsCiAgICAgIH0KICAgIH07CiAgfQoKICBjYW5jZWwucmVtb3ZlKCk7CgogIC8vIERpc2FibGUgdGhlIGlucHV0IGVsZW1lbnQgc2luY2UgZnVydGhlciBwaWNrcyBhcmUgbm90IGFsbG93ZWQuCiAgaW5wdXRFbGVtZW50LmRpc2FibGVkID0gdHJ1ZTsKCiAgZm9yIChjb25zdCBmaWxlIG9mIGZpbGVzKSB7CiAgICBjb25zdCBsaSA9IGRvY3VtZW50LmNyZWF0ZUVsZW1lbnQoJ2xpJyk7CiAgICBsaS5hcHBlbmQoc3BhbihmaWxlLm5hbWUsIHtmb250V2VpZ2h0OiAnYm9sZCd9KSk7CiAgICBsaS5hcHBlbmQoc3BhbigKICAgICAgICBgKCR7ZmlsZS50eXBlIHx8ICduL2EnfSkgLSAke2ZpbGUuc2l6ZX0gYnl0ZXMsIGAgKwogICAgICAgIGBsYXN0IG1vZGlmaWVkOiAkewogICAgICAgICAgICBmaWxlLmxhc3RNb2RpZmllZERhdGUgPyBmaWxlLmxhc3RNb2RpZmllZERhdGUudG9Mb2NhbGVEYXRlU3RyaW5nKCkgOgogICAgICAgICAgICAgICAgICAgICAgICAgICAgICAgICAgICAnbi9hJ30gLSBgKSk7CiAgICBjb25zdCBwZXJjZW50ID0gc3BhbignMCUgZG9uZScpOwogICAgbGkuYXBwZW5kQ2hpbGQocGVyY2VudCk7CgogICAgb3V0cHV0RWxlbWVudC5hcHBlbmRDaGlsZChsaSk7CgogICAgY29uc3QgZmlsZURhdGFQcm9taXNlID0gbmV3IFByb21pc2UoKHJlc29sdmUpID0+IHsKICAgICAgY29uc3QgcmVhZGVyID0gbmV3IEZpbGVSZWFkZXIoKTsKICAgICAgcmVhZGVyLm9ubG9hZCA9IChlKSA9PiB7CiAgICAgICAgcmVzb2x2ZShlLnRhcmdldC5yZXN1bHQpOwogICAgICB9OwogICAgICByZWFkZXIucmVhZEFzQXJyYXlCdWZmZXIoZmlsZSk7CiAgICB9KTsKICAgIC8vIFdhaXQgZm9yIHRoZSBkYXRhIHRvIGJlIHJlYWR5LgogICAgbGV0IGZpbGVEYXRhID0geWllbGQgewogICAgICBwcm9taXNlOiBmaWxlRGF0YVByb21pc2UsCiAgICAgIHJlc3BvbnNlOiB7CiAgICAgICAgYWN0aW9uOiAnY29udGludWUnLAogICAgICB9CiAgICB9OwoKICAgIC8vIFVzZSBhIGNodW5rZWQgc2VuZGluZyB0byBhdm9pZCBtZXNzYWdlIHNpemUgbGltaXRzLiBTZWUgYi82MjExNTY2MC4KICAgIGxldCBwb3NpdGlvbiA9IDA7CiAgICB3aGlsZSAocG9zaXRpb24gPCBmaWxlRGF0YS5ieXRlTGVuZ3RoKSB7CiAgICAgIGNvbnN0IGxlbmd0aCA9IE1hdGgubWluKGZpbGVEYXRhLmJ5dGVMZW5ndGggLSBwb3NpdGlvbiwgTUFYX1BBWUxPQURfU0laRSk7CiAgICAgIGNvbnN0IGNodW5rID0gbmV3IFVpbnQ4QXJyYXkoZmlsZURhdGEsIHBvc2l0aW9uLCBsZW5ndGgpOwogICAgICBwb3NpdGlvbiArPSBsZW5ndGg7CgogICAgICBjb25zdCBiYXNlNjQgPSBidG9hKFN0cmluZy5mcm9tQ2hhckNvZGUuYXBwbHkobnVsbCwgY2h1bmspKTsKICAgICAgeWllbGQgewogICAgICAgIHJlc3BvbnNlOiB7CiAgICAgICAgICBhY3Rpb246ICdhcHBlbmQnLAogICAgICAgICAgZmlsZTogZmlsZS5uYW1lLAogICAgICAgICAgZGF0YTogYmFzZTY0LAogICAgICAgIH0sCiAgICAgIH07CiAgICAgIHBlcmNlbnQudGV4dENvbnRlbnQgPQogICAgICAgICAgYCR7TWF0aC5yb3VuZCgocG9zaXRpb24gLyBmaWxlRGF0YS5ieXRlTGVuZ3RoKSAqIDEwMCl9JSBkb25lYDsKICAgIH0KICB9CgogIC8vIEFsbCBkb25lLgogIHlpZWxkIHsKICAgIHJlc3BvbnNlOiB7CiAgICAgIGFjdGlvbjogJ2NvbXBsZXRlJywKICAgIH0KICB9Owp9CgpzY29wZS5nb29nbGUgPSBzY29wZS5nb29nbGUgfHwge307CnNjb3BlLmdvb2dsZS5jb2xhYiA9IHNjb3BlLmdvb2dsZS5jb2xhYiB8fCB7fTsKc2NvcGUuZ29vZ2xlLmNvbGFiLl9maWxlcyA9IHsKICBfdXBsb2FkRmlsZXMsCiAgX3VwbG9hZEZpbGVzQ29udGludWUsCn07Cn0pKHNlbGYpOwo=",
              "ok": true,
              "headers": [
                [
                  "content-type",
                  "application/javascript"
                ]
              ],
              "status": 200,
              "status_text": ""
            }
          },
          "base_uri": "https://localhost:8080/",
          "height": 74
        },
        "outputId": "b909e7b0-5624-4f62-f477-af60e5026aaf"
      },
      "source": [
        "from google.colab import files\n",
        "uploaded = files.upload()"
      ],
      "execution_count": 187,
      "outputs": [
        {
          "output_type": "display_data",
          "data": {
            "text/html": [
              "\n",
              "     <input type=\"file\" id=\"files-87929834-7280-4363-9795-1cfa32f1b95c\" name=\"files[]\" multiple disabled />\n",
              "     <output id=\"result-87929834-7280-4363-9795-1cfa32f1b95c\">\n",
              "      Upload widget is only available when the cell has been executed in the\n",
              "      current browser session. Please rerun this cell to enable.\n",
              "      </output>\n",
              "      <script src=\"/nbextensions/google.colab/files.js\"></script> "
            ],
            "text/plain": [
              "<IPython.core.display.HTML object>"
            ]
          },
          "metadata": {
            "tags": []
          }
        },
        {
          "output_type": "stream",
          "text": [
            "Saving BoundariesPoliceDistricts.zip to BoundariesPoliceDistricts (2).zip\n"
          ],
          "name": "stdout"
        }
      ]
    },
    {
      "cell_type": "code",
      "metadata": {
        "id": "Lacff4YYn_-B",
        "colab_type": "code",
        "outputId": "3e71a8c1-204a-47de-ddc8-a863a1ff216d",
        "colab": {
          "base_uri": "https://localhost:8080/",
          "height": 265
        }
      },
      "source": [
        "#installed geopandas to be able to read map data\n",
        "!pip install geopandas"
      ],
      "execution_count": 188,
      "outputs": [
        {
          "output_type": "stream",
          "text": [
            "Requirement already satisfied: geopandas in /usr/local/lib/python3.6/dist-packages (0.6.2)\n",
            "Requirement already satisfied: pyproj in /usr/local/lib/python3.6/dist-packages (from geopandas) (2.4.2.post1)\n",
            "Requirement already satisfied: pandas>=0.23.0 in /usr/local/lib/python3.6/dist-packages (from geopandas) (0.25.3)\n",
            "Requirement already satisfied: fiona in /usr/local/lib/python3.6/dist-packages (from geopandas) (1.8.13)\n",
            "Requirement already satisfied: shapely in /usr/local/lib/python3.6/dist-packages (from geopandas) (1.7.0)\n",
            "Requirement already satisfied: numpy>=1.13.3 in /usr/local/lib/python3.6/dist-packages (from pandas>=0.23.0->geopandas) (1.17.5)\n",
            "Requirement already satisfied: pytz>=2017.2 in /usr/local/lib/python3.6/dist-packages (from pandas>=0.23.0->geopandas) (2018.9)\n",
            "Requirement already satisfied: python-dateutil>=2.6.1 in /usr/local/lib/python3.6/dist-packages (from pandas>=0.23.0->geopandas) (2.6.1)\n",
            "Requirement already satisfied: six>=1.7 in /usr/local/lib/python3.6/dist-packages (from fiona->geopandas) (1.12.0)\n",
            "Requirement already satisfied: cligj>=0.5 in /usr/local/lib/python3.6/dist-packages (from fiona->geopandas) (0.5.0)\n",
            "Requirement already satisfied: munch in /usr/local/lib/python3.6/dist-packages (from fiona->geopandas) (2.5.0)\n",
            "Requirement already satisfied: click-plugins>=1.0 in /usr/local/lib/python3.6/dist-packages (from fiona->geopandas) (1.1.1)\n",
            "Requirement already satisfied: click<8,>=4.0 in /usr/local/lib/python3.6/dist-packages (from fiona->geopandas) (7.0)\n",
            "Requirement already satisfied: attrs>=17 in /usr/local/lib/python3.6/dist-packages (from fiona->geopandas) (19.3.0)\n"
          ],
          "name": "stdout"
        }
      ]
    },
    {
      "cell_type": "code",
      "metadata": {
        "id": "R6kdW0PcEdGU",
        "colab_type": "code",
        "colab": {
          "base_uri": "https://localhost:8080/",
          "height": 123
        },
        "outputId": "7723859d-d8bb-4110-bf83-fc4f2404fc5e"
      },
      "source": [
        "#unzip folder with all map data sets\n",
        "!unzip BoundariesPoliceDistricts.zip"
      ],
      "execution_count": 189,
      "outputs": [
        {
          "output_type": "stream",
          "text": [
            "Archive:  BoundariesPoliceDistricts.zip\n",
            "replace geo_export_17d66201-4196-4b5b-afdd-f0a5cfc74e89.dbf? [y]es, [n]o, [A]ll, [N]one, [r]ename: A\n",
            "  inflating: geo_export_17d66201-4196-4b5b-afdd-f0a5cfc74e89.dbf  \n",
            "  inflating: geo_export_17d66201-4196-4b5b-afdd-f0a5cfc74e89.shp  \n",
            "  inflating: geo_export_17d66201-4196-4b5b-afdd-f0a5cfc74e89.shx  \n",
            "  inflating: geo_export_17d66201-4196-4b5b-afdd-f0a5cfc74e89.prj  \n"
          ],
          "name": "stdout"
        }
      ]
    },
    {
      "cell_type": "code",
      "metadata": {
        "id": "w6tzbuV5CFek",
        "colab_type": "code",
        "colab": {
          "base_uri": "https://localhost:8080/",
          "height": 264
        },
        "outputId": "703c91df-8832-4668-bb85-57dbae625be6"
      },
      "source": [
        "# using geopandas to read data\n",
        "import geopandas as gpd\n",
        "chicago = gpd.read_file('geo_export_17d66201-4196-4b5b-afdd-f0a5cfc74e89.shp')\n",
        "chicago.plot();\n"
      ],
      "execution_count": 191,
      "outputs": [
        {
          "output_type": "display_data",
          "data": {
            "image/png": "[encoded data removed]",
            "text/plain": [
              "<Figure size 432x288 with 1 Axes>"
            ]
          },
          "metadata": {
            "tags": []
          }
        }
      ]
    },
    {
      "cell_type": "code",
      "metadata": {
        "id": "KHBFvljUGIYV",
        "colab_type": "code",
        "colab": {
          "base_uri": "https://localhost:8080/",
          "height": 797
        },
        "outputId": "d368e46f-8076-4304-9896-bb3f44930613"
      },
      "source": [
        "#exploring map data set and renaming columns\n",
        "chicago.head()\n",
        "chicago_new = chicago.rename({'dist_label': 'District Label', 'dist_num': 'District'}, axis = 1)\n",
        "chicago_new.head(26)"
      ],
      "execution_count": 192,
      "outputs": [
        {
          "output_type": "execute_result",
          "data": {
            "text/html": [
              "<div>\n",
              "<style scoped>\n",
              "    .dataframe tbody tr th:only-of-type {\n",
              "        vertical-align: middle;\n",
              "    }\n",
              "\n",
              "    .dataframe tbody tr th {\n",
              "        vertical-align: top;\n",
              "    }\n",
              "\n",
              "    .dataframe thead th {\n",
              "        text-align: right;\n",
              "    }\n",
              "</style>\n",
              "<table border=\"1\" class=\"dataframe\">\n",
              "  <thead>\n",
              "    <tr style=\"text-align: right;\">\n",
              "      <th></th>\n",
              "      <th>District Label</th>\n",
              "      <th>District</th>\n",
              "      <th>geometry</th>\n",
              "    </tr>\n",
              "  </thead>\n",
              "  <tbody>\n",
              "    <tr>\n",
              "      <th>0</th>\n",
              "      <td>17TH</td>\n",
              "      <td>17</td>\n",
              "      <td>POLYGON ((-87.71067 41.99737, -87.71067 41.997...</td>\n",
              "    </tr>\n",
              "    <tr>\n",
              "      <th>1</th>\n",
              "      <td>20TH</td>\n",
              "      <td>20</td>\n",
              "      <td>POLYGON ((-87.66029 41.99092, -87.66029 41.990...</td>\n",
              "    </tr>\n",
              "    <tr>\n",
              "      <th>2</th>\n",
              "      <td>31ST</td>\n",
              "      <td>31</td>\n",
              "      <td>POLYGON ((-87.82818 41.98384, -87.82816 41.983...</td>\n",
              "    </tr>\n",
              "    <tr>\n",
              "      <th>3</th>\n",
              "      <td>31ST</td>\n",
              "      <td>31</td>\n",
              "      <td>POLYGON ((-87.83365 41.97535, -87.83366 41.974...</td>\n",
              "    </tr>\n",
              "    <tr>\n",
              "      <th>4</th>\n",
              "      <td>19TH</td>\n",
              "      <td>19</td>\n",
              "      <td>POLYGON ((-87.64492 41.96973, -87.64431 41.969...</td>\n",
              "    </tr>\n",
              "    <tr>\n",
              "      <th>5</th>\n",
              "      <td>25TH</td>\n",
              "      <td>25</td>\n",
              "      <td>POLYGON ((-87.71740 41.93922, -87.71739 41.939...</td>\n",
              "    </tr>\n",
              "    <tr>\n",
              "      <th>6</th>\n",
              "      <td>14TH</td>\n",
              "      <td>14</td>\n",
              "      <td>POLYGON ((-87.69257 41.93943, -87.69253 41.939...</td>\n",
              "    </tr>\n",
              "    <tr>\n",
              "      <th>7</th>\n",
              "      <td>31ST</td>\n",
              "      <td>31</td>\n",
              "      <td>POLYGON ((-87.69123 41.69899, -87.69123 41.698...</td>\n",
              "    </tr>\n",
              "    <tr>\n",
              "      <th>8</th>\n",
              "      <td>22ND</td>\n",
              "      <td>22</td>\n",
              "      <td>POLYGON ((-87.63632 41.73618, -87.63592 41.736...</td>\n",
              "    </tr>\n",
              "    <tr>\n",
              "      <th>9</th>\n",
              "      <td>5TH</td>\n",
              "      <td>5</td>\n",
              "      <td>POLYGON ((-87.58776 41.72231, -87.58762 41.722...</td>\n",
              "    </tr>\n",
              "    <tr>\n",
              "      <th>10</th>\n",
              "      <td>24TH</td>\n",
              "      <td>24</td>\n",
              "      <td>POLYGON ((-87.67424 42.02300, -87.66541 42.022...</td>\n",
              "    </tr>\n",
              "    <tr>\n",
              "      <th>11</th>\n",
              "      <td>16TH</td>\n",
              "      <td>16</td>\n",
              "      <td>POLYGON ((-87.80655 42.01896, -87.80655 42.018...</td>\n",
              "    </tr>\n",
              "    <tr>\n",
              "      <th>12</th>\n",
              "      <td>8TH</td>\n",
              "      <td>8</td>\n",
              "      <td>POLYGON ((-87.71442 41.82861, -87.71433 41.826...</td>\n",
              "    </tr>\n",
              "    <tr>\n",
              "      <th>13</th>\n",
              "      <td>18TH</td>\n",
              "      <td>18</td>\n",
              "      <td>POLYGON ((-87.63068 41.92623, -87.62960 41.926...</td>\n",
              "    </tr>\n",
              "    <tr>\n",
              "      <th>14</th>\n",
              "      <td>12TH</td>\n",
              "      <td>12</td>\n",
              "      <td>POLYGON ((-87.65742 41.90351, -87.65739 41.903...</td>\n",
              "    </tr>\n",
              "    <tr>\n",
              "      <th>15</th>\n",
              "      <td>11TH</td>\n",
              "      <td>11</td>\n",
              "      <td>POLYGON ((-87.70679 41.90283, -87.70679 41.902...</td>\n",
              "    </tr>\n",
              "    <tr>\n",
              "      <th>16</th>\n",
              "      <td>7TH</td>\n",
              "      <td>7</td>\n",
              "      <td>POLYGON ((-87.63076 41.79420, -87.63076 41.794...</td>\n",
              "    </tr>\n",
              "    <tr>\n",
              "      <th>17</th>\n",
              "      <td>3RD</td>\n",
              "      <td>3</td>\n",
              "      <td>POLYGON ((-87.58001 41.79348, -87.57949 41.793...</td>\n",
              "    </tr>\n",
              "    <tr>\n",
              "      <th>18</th>\n",
              "      <td>4TH</td>\n",
              "      <td>4</td>\n",
              "      <td>POLYGON ((-87.55547 41.76135, -87.55475 41.761...</td>\n",
              "    </tr>\n",
              "    <tr>\n",
              "      <th>19</th>\n",
              "      <td>6TH</td>\n",
              "      <td>6</td>\n",
              "      <td>POLYGON ((-87.59800 41.75865, -87.59778 41.758...</td>\n",
              "    </tr>\n",
              "    <tr>\n",
              "      <th>20</th>\n",
              "      <td>10TH</td>\n",
              "      <td>10</td>\n",
              "      <td>POLYGON ((-87.68604 41.86661, -87.68603 41.866...</td>\n",
              "    </tr>\n",
              "    <tr>\n",
              "      <th>21</th>\n",
              "      <td>1ST</td>\n",
              "      <td>1</td>\n",
              "      <td>POLYGON ((-87.62437 41.88886, -87.62419 41.888...</td>\n",
              "    </tr>\n",
              "    <tr>\n",
              "      <th>22</th>\n",
              "      <td>9TH</td>\n",
              "      <td>9</td>\n",
              "      <td>POLYGON ((-87.63193 41.86015, -87.63117 41.860...</td>\n",
              "    </tr>\n",
              "    <tr>\n",
              "      <th>23</th>\n",
              "      <td>2ND</td>\n",
              "      <td>2</td>\n",
              "      <td>POLYGON ((-87.60769 41.83858, -87.60618 41.838...</td>\n",
              "    </tr>\n",
              "    <tr>\n",
              "      <th>24</th>\n",
              "      <td>15TH</td>\n",
              "      <td>15</td>\n",
              "      <td>POLYGON ((-87.74598 41.90235, -87.74598 41.902...</td>\n",
              "    </tr>\n",
              "  </tbody>\n",
              "</table>\n",
              "</div>"
            ],
            "text/plain": [
              "   District Label District                                           geometry\n",
              "0            17TH       17  POLYGON ((-87.71067 41.99737, -87.71067 41.997...\n",
              "1            20TH       20  POLYGON ((-87.66029 41.99092, -87.66029 41.990...\n",
              "2            31ST       31  POLYGON ((-87.82818 41.98384, -87.82816 41.983...\n",
              "3            31ST       31  POLYGON ((-87.83365 41.97535, -87.83366 41.974...\n",
              "4            19TH       19  POLYGON ((-87.64492 41.96973, -87.64431 41.969...\n",
              "5            25TH       25  POLYGON ((-87.71740 41.93922, -87.71739 41.939...\n",
              "6            14TH       14  POLYGON ((-87.69257 41.93943, -87.69253 41.939...\n",
              "7            31ST       31  POLYGON ((-87.69123 41.69899, -87.69123 41.698...\n",
              "8            22ND       22  POLYGON ((-87.63632 41.73618, -87.63592 41.736...\n",
              "9             5TH        5  POLYGON ((-87.58776 41.72231, -87.58762 41.722...\n",
              "10           24TH       24  POLYGON ((-87.67424 42.02300, -87.66541 42.022...\n",
              "11           16TH       16  POLYGON ((-87.80655 42.01896, -87.80655 42.018...\n",
              "12            8TH        8  POLYGON ((-87.71442 41.82861, -87.71433 41.826...\n",
              "13           18TH       18  POLYGON ((-87.63068 41.92623, -87.62960 41.926...\n",
              "14           12TH       12  POLYGON ((-87.65742 41.90351, -87.65739 41.903...\n",
              "15           11TH       11  POLYGON ((-87.70679 41.90283, -87.70679 41.902...\n",
              "16            7TH        7  POLYGON ((-87.63076 41.79420, -87.63076 41.794...\n",
              "17            3RD        3  POLYGON ((-87.58001 41.79348, -87.57949 41.793...\n",
              "18            4TH        4  POLYGON ((-87.55547 41.76135, -87.55475 41.761...\n",
              "19            6TH        6  POLYGON ((-87.59800 41.75865, -87.59778 41.758...\n",
              "20           10TH       10  POLYGON ((-87.68604 41.86661, -87.68603 41.866...\n",
              "21            1ST        1  POLYGON ((-87.62437 41.88886, -87.62419 41.888...\n",
              "22            9TH        9  POLYGON ((-87.63193 41.86015, -87.63117 41.860...\n",
              "23            2ND        2  POLYGON ((-87.60769 41.83858, -87.60618 41.838...\n",
              "24           15TH       15  POLYGON ((-87.74598 41.90235, -87.74598 41.902..."
            ]
          },
          "metadata": {
            "tags": []
          },
          "execution_count": 192
        }
      ]
    },
    {
      "cell_type": "code",
      "metadata": {
        "id": "wYYhb37eQro5",
        "colab_type": "code",
        "colab": {
          "base_uri": "https://localhost:8080/",
          "height": 34
        },
        "outputId": "b8eb21c7-379b-40b7-b9d2-e2e4773d592e"
      },
      "source": [
        "# I had dropped row with district '31' because - \" According to \n",
        "#Officer Joseph A. Candella of the Chicago Police Department,\n",
        "# “District 31 is used as a code for \"’Out of City’\"\n",
        "# (email correspondence, August 28th, 2017). These records will be dropped from \n",
        "#later analyses, but are shown here in this one table for completeness\"\n",
        "chicago_clean = chicago_new.drop([chicago_new.index[2], chicago_new.index[3], chicago_new.index[7]])\n",
        "chicago_clean.shape"
      ],
      "execution_count": 193,
      "outputs": [
        {
          "output_type": "execute_result",
          "data": {
            "text/plain": [
              "(22, 3)"
            ]
          },
          "metadata": {
            "tags": []
          },
          "execution_count": 193
        }
      ]
    },
    {
      "cell_type": "code",
      "metadata": {
        "id": "iQyF8nmSoc78",
        "colab_type": "code",
        "outputId": "61052287-df77-4d6a-8b7c-caca1fe514b6",
        "colab": {
          "base_uri": "https://localhost:8080/",
          "height": 707
        }
      },
      "source": [
        "# merged my crime dataset with map dataset \n",
        "merged = pd.merge(chicago_clean, district_all,\n",
        "                  on = \"District\",\n",
        "                  how = 'inner')\n",
        "                \n",
        "merged.head(26)\n",
        "merged.sort_values(by = 'All')"
      ],
      "execution_count": 194,
      "outputs": [
        {
          "output_type": "execute_result",
          "data": {
            "text/html": [
              "<div>\n",
              "<style scoped>\n",
              "    .dataframe tbody tr th:only-of-type {\n",
              "        vertical-align: middle;\n",
              "    }\n",
              "\n",
              "    .dataframe tbody tr th {\n",
              "        vertical-align: top;\n",
              "    }\n",
              "\n",
              "    .dataframe thead th {\n",
              "        text-align: right;\n",
              "    }\n",
              "</style>\n",
              "<table border=\"1\" class=\"dataframe\">\n",
              "  <thead>\n",
              "    <tr style=\"text-align: right;\">\n",
              "      <th></th>\n",
              "      <th>District Label</th>\n",
              "      <th>District</th>\n",
              "      <th>geometry</th>\n",
              "      <th>All</th>\n",
              "    </tr>\n",
              "  </thead>\n",
              "  <tbody>\n",
              "    <tr>\n",
              "      <th>1</th>\n",
              "      <td>20TH</td>\n",
              "      <td>20</td>\n",
              "      <td>POLYGON ((-87.66029 41.99092, -87.66029 41.990...</td>\n",
              "      <td>4276</td>\n",
              "    </tr>\n",
              "    <tr>\n",
              "      <th>0</th>\n",
              "      <td>17TH</td>\n",
              "      <td>17</td>\n",
              "      <td>POLYGON ((-87.71067 41.99737, -87.71067 41.997...</td>\n",
              "      <td>6669</td>\n",
              "    </tr>\n",
              "    <tr>\n",
              "      <th>7</th>\n",
              "      <td>24TH</td>\n",
              "      <td>24</td>\n",
              "      <td>POLYGON ((-87.67424 42.02300, -87.66541 42.022...</td>\n",
              "      <td>7872</td>\n",
              "    </tr>\n",
              "    <tr>\n",
              "      <th>8</th>\n",
              "      <td>16TH</td>\n",
              "      <td>16</td>\n",
              "      <td>POLYGON ((-87.80655 42.01896, -87.80655 42.018...</td>\n",
              "      <td>8073</td>\n",
              "    </tr>\n",
              "    <tr>\n",
              "      <th>5</th>\n",
              "      <td>22ND</td>\n",
              "      <td>22</td>\n",
              "      <td>POLYGON ((-87.63632 41.73618, -87.63592 41.736...</td>\n",
              "      <td>8108</td>\n",
              "    </tr>\n",
              "    <tr>\n",
              "      <th>4</th>\n",
              "      <td>14TH</td>\n",
              "      <td>14</td>\n",
              "      <td>POLYGON ((-87.69257 41.93943, -87.69253 41.939...</td>\n",
              "      <td>9158</td>\n",
              "    </tr>\n",
              "    <tr>\n",
              "      <th>21</th>\n",
              "      <td>15TH</td>\n",
              "      <td>15</td>\n",
              "      <td>POLYGON ((-87.74598 41.90235, -87.74598 41.902...</td>\n",
              "      <td>9889</td>\n",
              "    </tr>\n",
              "    <tr>\n",
              "      <th>19</th>\n",
              "      <td>9TH</td>\n",
              "      <td>9</td>\n",
              "      <td>POLYGON ((-87.63193 41.86015, -87.63117 41.860...</td>\n",
              "      <td>10858</td>\n",
              "    </tr>\n",
              "    <tr>\n",
              "      <th>20</th>\n",
              "      <td>2ND</td>\n",
              "      <td>2</td>\n",
              "      <td>POLYGON ((-87.60769 41.83858, -87.60618 41.838...</td>\n",
              "      <td>11046</td>\n",
              "    </tr>\n",
              "    <tr>\n",
              "      <th>6</th>\n",
              "      <td>5TH</td>\n",
              "      <td>5</td>\n",
              "      <td>POLYGON ((-87.58776 41.72231, -87.58762 41.722...</td>\n",
              "      <td>11233</td>\n",
              "    </tr>\n",
              "    <tr>\n",
              "      <th>2</th>\n",
              "      <td>19TH</td>\n",
              "      <td>19</td>\n",
              "      <td>POLYGON ((-87.64492 41.96973, -87.64431 41.969...</td>\n",
              "      <td>11603</td>\n",
              "    </tr>\n",
              "    <tr>\n",
              "      <th>14</th>\n",
              "      <td>3RD</td>\n",
              "      <td>3</td>\n",
              "      <td>POLYGON ((-87.58001 41.79348, -87.57949 41.793...</td>\n",
              "      <td>12353</td>\n",
              "    </tr>\n",
              "    <tr>\n",
              "      <th>17</th>\n",
              "      <td>10TH</td>\n",
              "      <td>10</td>\n",
              "      <td>POLYGON ((-87.68604 41.86661, -87.68603 41.866...</td>\n",
              "      <td>12369</td>\n",
              "    </tr>\n",
              "    <tr>\n",
              "      <th>3</th>\n",
              "      <td>25TH</td>\n",
              "      <td>25</td>\n",
              "      <td>POLYGON ((-87.71740 41.93922, -87.71739 41.939...</td>\n",
              "      <td>12777</td>\n",
              "    </tr>\n",
              "    <tr>\n",
              "      <th>11</th>\n",
              "      <td>12TH</td>\n",
              "      <td>12</td>\n",
              "      <td>POLYGON ((-87.65742 41.90351, -87.65739 41.903...</td>\n",
              "      <td>12995</td>\n",
              "    </tr>\n",
              "    <tr>\n",
              "      <th>13</th>\n",
              "      <td>7TH</td>\n",
              "      <td>7</td>\n",
              "      <td>POLYGON ((-87.63076 41.79420, -87.63076 41.794...</td>\n",
              "      <td>13528</td>\n",
              "    </tr>\n",
              "    <tr>\n",
              "      <th>15</th>\n",
              "      <td>4TH</td>\n",
              "      <td>4</td>\n",
              "      <td>POLYGON ((-87.55547 41.76135, -87.55475 41.761...</td>\n",
              "      <td>13858</td>\n",
              "    </tr>\n",
              "    <tr>\n",
              "      <th>10</th>\n",
              "      <td>18TH</td>\n",
              "      <td>18</td>\n",
              "      <td>POLYGON ((-87.63068 41.92623, -87.62960 41.926...</td>\n",
              "      <td>14986</td>\n",
              "    </tr>\n",
              "    <tr>\n",
              "      <th>18</th>\n",
              "      <td>1ST</td>\n",
              "      <td>1</td>\n",
              "      <td>POLYGON ((-87.62437 41.88886, -87.62419 41.888...</td>\n",
              "      <td>15093</td>\n",
              "    </tr>\n",
              "    <tr>\n",
              "      <th>9</th>\n",
              "      <td>8TH</td>\n",
              "      <td>8</td>\n",
              "      <td>POLYGON ((-87.71442 41.82861, -87.71433 41.826...</td>\n",
              "      <td>15513</td>\n",
              "    </tr>\n",
              "    <tr>\n",
              "      <th>16</th>\n",
              "      <td>6TH</td>\n",
              "      <td>6</td>\n",
              "      <td>POLYGON ((-87.59800 41.75865, -87.59778 41.758...</td>\n",
              "      <td>16656</td>\n",
              "    </tr>\n",
              "    <tr>\n",
              "      <th>12</th>\n",
              "      <td>11TH</td>\n",
              "      <td>11</td>\n",
              "      <td>POLYGON ((-87.70679 41.90283, -87.70679 41.902...</td>\n",
              "      <td>18168</td>\n",
              "    </tr>\n",
              "  </tbody>\n",
              "</table>\n",
              "</div>"
            ],
            "text/plain": [
              "   District Label  ...    All\n",
              "1            20TH  ...   4276\n",
              "0            17TH  ...   6669\n",
              "7            24TH  ...   7872\n",
              "8            16TH  ...   8073\n",
              "5            22ND  ...   8108\n",
              "4            14TH  ...   9158\n",
              "21           15TH  ...   9889\n",
              "19            9TH  ...  10858\n",
              "20            2ND  ...  11046\n",
              "6             5TH  ...  11233\n",
              "2            19TH  ...  11603\n",
              "14            3RD  ...  12353\n",
              "17           10TH  ...  12369\n",
              "3            25TH  ...  12777\n",
              "11           12TH  ...  12995\n",
              "13            7TH  ...  13528\n",
              "15            4TH  ...  13858\n",
              "10           18TH  ...  14986\n",
              "18            1ST  ...  15093\n",
              "9             8TH  ...  15513\n",
              "16            6TH  ...  16656\n",
              "12           11TH  ...  18168\n",
              "\n",
              "[22 rows x 4 columns]"
            ]
          },
          "metadata": {
            "tags": []
          },
          "execution_count": 194
        }
      ]
    },
    {
      "cell_type": "code",
      "metadata": {
        "id": "cXtRmX0rrbWQ",
        "colab_type": "code",
        "outputId": "af909a3f-1518-4f99-954e-27c356c531e7",
        "colab": {
          "base_uri": "https://localhost:8080/",
          "height": 470
        }
      },
      "source": [
        "#plotting map using matplotlib\n",
        "variable = 'All'\n",
        "vmin, vmax = 1, 20000\n",
        "# create figure and axes for Matplotlib\n",
        "fig, ax = plt.subplots(1, figsize=(10, 8))\n",
        "merged.plot(column=variable, cmap='Reds', linewidth=1, ax=ax, edgecolor='0.9')\n",
        "ax.axis('off')\n",
        "#creating a title\n",
        "ax.set_title('Chicago Crimes per Police District', fontdict={'fontsize': '15', 'fontweight' : '3'})\n",
        "\n",
        "             \n",
        "sm = plt.cm.ScalarMappable(cmap='Reds', norm=plt.Normalize(vmin=vmin, vmax=vmax))\n",
        "# empty array for the data rang\n",
        "sm._A = []\n",
        "# add the colorbar to the figure\n",
        "cbar = fig.colorbar(sm)"
      ],
      "execution_count": 195,
      "outputs": [
        {
          "output_type": "display_data",
          "data": {
            "image/png": "[encoded data removed]",
            "text/plain": [
              "<Figure size 720x576 with 2 Axes>"
            ]
          },
          "metadata": {
            "tags": []
          }
        }
      ]
    },
    {
      "cell_type": "code",
      "metadata": {
        "id": "i8Kyv94MiHgW",
        "colab_type": "code",
        "colab": {
          "base_uri": "https://localhost:8080/",
          "height": 1000
        },
        "outputId": "1350558c-3284-47dc-d75e-59bb0495deac"
      },
      "source": [
        "# crosstab to see how many arrest was made \n",
        "arrest = pd.crosstab(crimes_19_clean['Primary Type'], crimes_19_clean['Arrest'])\n",
        "arrest"
      ],
      "execution_count": 196,
      "outputs": [
        {
          "output_type": "execute_result",
          "data": {
            "text/html": [
              "<div>\n",
              "<style scoped>\n",
              "    .dataframe tbody tr th:only-of-type {\n",
              "        vertical-align: middle;\n",
              "    }\n",
              "\n",
              "    .dataframe tbody tr th {\n",
              "        vertical-align: top;\n",
              "    }\n",
              "\n",
              "    .dataframe thead th {\n",
              "        text-align: right;\n",
              "    }\n",
              "</style>\n",
              "<table border=\"1\" class=\"dataframe\">\n",
              "  <thead>\n",
              "    <tr style=\"text-align: right;\">\n",
              "      <th>Arrest</th>\n",
              "      <th>0</th>\n",
              "      <th>1</th>\n",
              "    </tr>\n",
              "    <tr>\n",
              "      <th>Primary Type</th>\n",
              "      <th></th>\n",
              "      <th></th>\n",
              "    </tr>\n",
              "  </thead>\n",
              "  <tbody>\n",
              "    <tr>\n",
              "      <th>ARSON</th>\n",
              "      <td>343</td>\n",
              "      <td>30</td>\n",
              "    </tr>\n",
              "    <tr>\n",
              "      <th>ASSAULT</th>\n",
              "      <td>16859</td>\n",
              "      <td>3730</td>\n",
              "    </tr>\n",
              "    <tr>\n",
              "      <th>BATTERY</th>\n",
              "      <td>39129</td>\n",
              "      <td>10311</td>\n",
              "    </tr>\n",
              "    <tr>\n",
              "      <th>BURGLARY</th>\n",
              "      <td>9110</td>\n",
              "      <td>497</td>\n",
              "    </tr>\n",
              "    <tr>\n",
              "      <th>CONCEALED CARRY LICENSE VIOLATION</th>\n",
              "      <td>5</td>\n",
              "      <td>212</td>\n",
              "    </tr>\n",
              "    <tr>\n",
              "      <th>CRIM SEXUAL ASSAULT</th>\n",
              "      <td>1492</td>\n",
              "      <td>96</td>\n",
              "    </tr>\n",
              "    <tr>\n",
              "      <th>CRIMINAL DAMAGE</th>\n",
              "      <td>24980</td>\n",
              "      <td>1663</td>\n",
              "    </tr>\n",
              "    <tr>\n",
              "      <th>CRIMINAL TRESPASS</th>\n",
              "      <td>3027</td>\n",
              "      <td>3788</td>\n",
              "    </tr>\n",
              "    <tr>\n",
              "      <th>DECEPTIVE PRACTICE</th>\n",
              "      <td>16044</td>\n",
              "      <td>824</td>\n",
              "    </tr>\n",
              "    <tr>\n",
              "      <th>GAMBLING</th>\n",
              "      <td>0</td>\n",
              "      <td>142</td>\n",
              "    </tr>\n",
              "    <tr>\n",
              "      <th>HOMICIDE</th>\n",
              "      <td>389</td>\n",
              "      <td>115</td>\n",
              "    </tr>\n",
              "    <tr>\n",
              "      <th>HUMAN TRAFFICKING</th>\n",
              "      <td>12</td>\n",
              "      <td>0</td>\n",
              "    </tr>\n",
              "    <tr>\n",
              "      <th>INTERFERENCE WITH PUBLIC OFFICER</th>\n",
              "      <td>61</td>\n",
              "      <td>1485</td>\n",
              "    </tr>\n",
              "    <tr>\n",
              "      <th>INTIMIDATION</th>\n",
              "      <td>157</td>\n",
              "      <td>6</td>\n",
              "    </tr>\n",
              "    <tr>\n",
              "      <th>KIDNAPPING</th>\n",
              "      <td>163</td>\n",
              "      <td>11</td>\n",
              "    </tr>\n",
              "    <tr>\n",
              "      <th>LIQUOR LAW VIOLATION</th>\n",
              "      <td>0</td>\n",
              "      <td>230</td>\n",
              "    </tr>\n",
              "    <tr>\n",
              "      <th>MOTOR VEHICLE THEFT</th>\n",
              "      <td>8455</td>\n",
              "      <td>515</td>\n",
              "    </tr>\n",
              "    <tr>\n",
              "      <th>NARCOTICS</th>\n",
              "      <td>9</td>\n",
              "      <td>14017</td>\n",
              "    </tr>\n",
              "    <tr>\n",
              "      <th>NON-CRIMINAL</th>\n",
              "      <td>2</td>\n",
              "      <td>1</td>\n",
              "    </tr>\n",
              "    <tr>\n",
              "      <th>OBSCENITY</th>\n",
              "      <td>9</td>\n",
              "      <td>48</td>\n",
              "    </tr>\n",
              "    <tr>\n",
              "      <th>OFFENSE INVOLVING CHILDREN</th>\n",
              "      <td>2021</td>\n",
              "      <td>274</td>\n",
              "    </tr>\n",
              "    <tr>\n",
              "      <th>OTHER NARCOTIC VIOLATION</th>\n",
              "      <td>3</td>\n",
              "      <td>5</td>\n",
              "    </tr>\n",
              "    <tr>\n",
              "      <th>OTHER OFFENSE</th>\n",
              "      <td>12910</td>\n",
              "      <td>3678</td>\n",
              "    </tr>\n",
              "    <tr>\n",
              "      <th>PROSTITUTION</th>\n",
              "      <td>0</td>\n",
              "      <td>680</td>\n",
              "    </tr>\n",
              "    <tr>\n",
              "      <th>PUBLIC INDECENCY</th>\n",
              "      <td>0</td>\n",
              "      <td>10</td>\n",
              "    </tr>\n",
              "    <tr>\n",
              "      <th>PUBLIC PEACE VIOLATION</th>\n",
              "      <td>449</td>\n",
              "      <td>1069</td>\n",
              "    </tr>\n",
              "    <tr>\n",
              "      <th>ROBBERY</th>\n",
              "      <td>7331</td>\n",
              "      <td>653</td>\n",
              "    </tr>\n",
              "    <tr>\n",
              "      <th>SEX OFFENSE</th>\n",
              "      <td>1121</td>\n",
              "      <td>150</td>\n",
              "    </tr>\n",
              "    <tr>\n",
              "      <th>STALKING</th>\n",
              "      <td>187</td>\n",
              "      <td>34</td>\n",
              "    </tr>\n",
              "    <tr>\n",
              "      <th>THEFT</th>\n",
              "      <td>56171</td>\n",
              "      <td>6056</td>\n",
              "    </tr>\n",
              "    <tr>\n",
              "      <th>WEAPONS VIOLATION</th>\n",
              "      <td>2097</td>\n",
              "      <td>4222</td>\n",
              "    </tr>\n",
              "  </tbody>\n",
              "</table>\n",
              "</div>"
            ],
            "text/plain": [
              "Arrest                                 0      1\n",
              "Primary Type                                   \n",
              "ARSON                                343     30\n",
              "ASSAULT                            16859   3730\n",
              "BATTERY                            39129  10311\n",
              "BURGLARY                            9110    497\n",
              "CONCEALED CARRY LICENSE VIOLATION      5    212\n",
              "CRIM SEXUAL ASSAULT                 1492     96\n",
              "CRIMINAL DAMAGE                    24980   1663\n",
              "CRIMINAL TRESPASS                   3027   3788\n",
              "DECEPTIVE PRACTICE                 16044    824\n",
              "GAMBLING                               0    142\n",
              "HOMICIDE                             389    115\n",
              "HUMAN TRAFFICKING                     12      0\n",
              "INTERFERENCE WITH PUBLIC OFFICER      61   1485\n",
              "INTIMIDATION                         157      6\n",
              "KIDNAPPING                           163     11\n",
              "LIQUOR LAW VIOLATION                   0    230\n",
              "MOTOR VEHICLE THEFT                 8455    515\n",
              "NARCOTICS                              9  14017\n",
              "NON-CRIMINAL                           2      1\n",
              "OBSCENITY                              9     48\n",
              "OFFENSE INVOLVING CHILDREN          2021    274\n",
              "OTHER NARCOTIC VIOLATION               3      5\n",
              "OTHER OFFENSE                      12910   3678\n",
              "PROSTITUTION                           0    680\n",
              "PUBLIC INDECENCY                       0     10\n",
              "PUBLIC PEACE VIOLATION               449   1069\n",
              "ROBBERY                             7331    653\n",
              "SEX OFFENSE                         1121    150\n",
              "STALKING                             187     34\n",
              "THEFT                              56171   6056\n",
              "WEAPONS VIOLATION                   2097   4222"
            ]
          },
          "metadata": {
            "tags": []
          },
          "execution_count": 196
        }
      ]
    },
    {
      "cell_type": "code",
      "metadata": {
        "id": "vB4eFNM0saCP",
        "colab_type": "code",
        "outputId": "fc44fecf-48d6-4256-a228-3dcf321758fd",
        "colab": {
          "base_uri": "https://localhost:8080/",
          "height": 621
        }
      },
      "source": [
        "#used seaborn to create heatmap\n",
        "import numpy as np\n",
        "import seaborn as sns\n",
        " \n",
        "plt.figure(figsize=(7, 10))\n",
        "xticks = ['no arrest', 'arrest']\n",
        "sns.heatmap(arrest, xticklabels=xticks, cmap = 'Reds', linewidths=.2)\n",
        "plt.title('Crimes Reported and Arrests Made')\n",
        "plt.show()\n"
      ],
      "execution_count": 197,
      "outputs": [
        {
          "output_type": "display_data",
          "data": {
            "image/png": "[encoded data removed]",
            "text/plain": [
              "<Figure size 504x720 with 2 Axes>"
            ]
          },
          "metadata": {
            "tags": []
          }
        }
      ]
    }
  ]
}